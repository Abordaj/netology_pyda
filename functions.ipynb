{
 "cells": [
  {
   "cell_type": "markdown",
   "metadata": {},
   "source": [
    "Вы работаете секретарем и вам постоянно приходят различные документы. Вы должны быть очень внимательны, чтобы не потерять ни один документ. Каталог документов хранится в следующем виде:"
   ]
  },
  {
   "cell_type": "code",
   "execution_count": 26,
   "metadata": {},
   "outputs": [],
   "source": [
    "documents = [\n",
    "    {'type': 'passport', 'number': '2207 876234', 'name': 'Василий Гупкин'},\n",
    "    {'type': 'invoice', 'number': '11-2', 'name': 'Геннадий Покемонов'},\n",
    "    {'type': 'insurance', 'number': '10006', 'name': 'Аристарх Павлов'}\n",
    "]"
   ]
  },
  {
   "cell_type": "markdown",
   "metadata": {},
   "source": [
    "\n",
    "Перечень полок, на которых находятся документы хранится в следующем виде:"
   ]
  },
  {
   "cell_type": "code",
   "execution_count": 27,
   "metadata": {},
   "outputs": [],
   "source": [
    "directories = {\n",
    "    '1': ['2207 876234', '11-2'],\n",
    "    '2': ['10006'],\n",
    "    '3': []\n",
    "}"
   ]
  },
  {
   "cell_type": "code",
   "execution_count": 28,
   "metadata": {},
   "outputs": [],
   "source": [
    "def person_name():\n",
    "    counter_1 = 0\n",
    "    document_number_1 = input('Введите номер документа: ')\n",
    "    for persons in documents:\n",
    "        if document_number_1 == persons['number']:\n",
    "            print(persons['name'])\n",
    "            counter_1 += 1\n",
    "    if counter_1 == 0:\n",
    "        print('Такого документа в каталоге не существует.')"
   ]
  },
  {
   "cell_type": "code",
   "execution_count": 29,
   "metadata": {},
   "outputs": [],
   "source": [
    "def shelf_number():\n",
    "    counter_2 = 0\n",
    "    document_number_2 = input('Введите номер документа: ')\n",
    "    for shelf, doc_number in directories.items():\n",
    "        if document_number_2 in doc_number:\n",
    "            print('Полка № ', shelf)\n",
    "            counter_2 += 1\n",
    "    if counter_2 == 0:\n",
    "        print('Такого документа в каталоге не существует')"
   ]
  },
  {
   "cell_type": "code",
   "execution_count": 30,
   "metadata": {},
   "outputs": [],
   "source": [
    "def list_of_documents():\n",
    "    for document in documents:\n",
    "        print(document['type'],' \"',document['number'],'\" ','\"',document['name'],'\"', sep='')"
   ]
  },
  {
   "cell_type": "code",
   "execution_count": 31,
   "metadata": {},
   "outputs": [],
   "source": [
    "def new_shelf():\n",
    "    new_list = []\n",
    "    shelf_number_1 = input('Введите номер полки: ')\n",
    "    directories.setdefault(shelf_number_1, new_list)"
   ]
  },
  {
   "cell_type": "code",
   "execution_count": 32,
   "metadata": {},
   "outputs": [],
   "source": [
    "def delete_document():\n",
    "    document_number_3 = input('Введите номер документа: ')\n",
    "    counter_3 = 0\n",
    "    for persons in documents:\n",
    "        if document_number_3 == persons['number']:\n",
    "            documents.remove(persons)\n",
    "            counter_3 += 1\n",
    "    if counter_3 == 0:\n",
    "        print('Такого документа в каталоге не существует')\n",
    "    else:\n",
    "        for doc_number in directories.values():\n",
    "            if document_number_3 in doc_number:\n",
    "                doc_number.remove(document_number_3)"
   ]
  },
  {
   "cell_type": "code",
   "execution_count": 33,
   "metadata": {
    "scrolled": true
   },
   "outputs": [],
   "source": [
    "def move_document_to_shelf():\n",
    "    document_number_4 = input('Введите номер документа: ')\n",
    "    shelf_number_2 = input('Введите номер полки: ')\n",
    "    counter_4 = 0\n",
    "    counter_5 = 0\n",
    "    for shelf in directories.keys():\n",
    "        if shelf_number_2 in shelf:\n",
    "            counter_4 += 1\n",
    "    if counter_4 == 0:\n",
    "        print('Такой полки не существует')\n",
    "    else:\n",
    "        for shelf, doc_number in directories.items():\n",
    "            if document_number_4 in doc_number:\n",
    "                counter_5 += 1\n",
    "                doc_number.remove(document_number_4)\n",
    "            elif counter_5 == 0:\n",
    "                print('Такого документа не существует')    \n",
    "                break\n",
    "            elif shelf_number_2 in shelf:\n",
    "                doc_number.append(document_number_4)"
   ]
  },
  {
   "cell_type": "code",
   "execution_count": 35,
   "metadata": {},
   "outputs": [],
   "source": [
    "def add_document():\n",
    "    document_number_5 = input('Введите номер документа: ')\n",
    "    document_type = input('Введите тип документа: ')\n",
    "    person_name = input('Введите имя: ')\n",
    "    shelf_number_3 = input('Введите номер полки: ')\n",
    "    counter_6 = 0\n",
    "    for shelf, doc_number in directories.items():\n",
    "        if shelf_number_3 in shelf:\n",
    "            counter_6 += 1\n",
    "            doc_number.append(document_number_5)\n",
    "            documents.append({'type':document_type,'number':document_number_5,'name':person_name})\n",
    "    if counter_6 == 0:\n",
    "        print('Такой полки не существует. Сначала необходимо добавить новую полку.')   "
   ]
  },
  {
   "cell_type": "code",
   "execution_count": 56,
   "metadata": {},
   "outputs": [
    {
     "name": "stdout",
     "output_type": "stream",
     "text": [
      "Уважаемый пользователь!\n",
      "Вы приступаете к работе с Каталогом документов.\n",
      "Для работы с Каталогом документов вы можете использовать следующие команды:\n",
      "p - введите номер документа и получите имя человека, которому он принадлежит\n",
      "s - введите номер документа и получите номер полки, на которой он хранится\n",
      "l - вывод списка всех документов в Каталоге документов\n",
      "as - создание новой полки для хранения документов\n",
      "d - введите номер документа для удаления данных из Каталога документов\n",
      "m - перемещение документа с одной полки на другую\n",
      "a - добавление нового документа в Каталог документов\n",
      "Для начала работы введите команду: a\n",
      "Введите номер документа: 785416\n",
      "Введите тип документа: passport\n",
      "Введите имя: Иван Вассерман\n",
      "Введите номер полки: 6\n",
      "Такой полки не существует. Сначала необходимо добавить новую полку.\n"
     ]
    }
   ],
   "source": [
    "print('Уважаемый пользователь!','Вы приступаете к работе с Каталогом документов.',\n",
    "      'Для работы с Каталогом документов вы можете использовать следующие команды:',\n",
    "      'p - введите номер документа и получите имя человека, которому он принадлежит',\n",
    "     's - введите номер документа и получите номер полки, на которой он хранится',\n",
    "     'l - вывод списка всех документов в Каталоге документов',\n",
    "     'as - создание новой полки для хранения документов',\n",
    "     'd - введите номер документа для удаления данных из Каталога документов',\n",
    "     'm - перемещение документа с одной полки на другую',\n",
    "     'a - добавление нового документа в Каталог документов', sep='\\n')\n",
    "def main_programm():\n",
    "    comand = input('Для начала работы введите команду: ')\n",
    "    if comand == 'p':\n",
    "        person_name()\n",
    "    elif comand == 's':\n",
    "        shelf_number()\n",
    "    elif comand == 'l':\n",
    "        list_of_documents()\n",
    "    elif comand == 'as':\n",
    "        new_shelf()\n",
    "    elif comand == 'd':\n",
    "        delete_document()\n",
    "    elif comand == 'm':\n",
    "        move_document_to_shelf()\n",
    "    elif comand == 'a':\n",
    "        add_document()\n",
    "    else:\n",
    "        print('Такой команды не существует.')\n",
    "main_programm()"
   ]
  },
  {
   "cell_type": "markdown",
   "metadata": {},
   "source": [
    "Необходимо реализовать пользовательские команды (внимание! это не название функций, которые должны быть выразительными, а команды, которые вводит пользователь, чтобы получить необходимый результат):\n",
    "  \n",
    "- p – people – команда, которая спросит номер документа и выведет имя человека, которому он принадлежит;  \n",
    "- s – shelf – команда, которая спросит номер документа и выведет номер полки, на которой он находится  \n",
    "Правильно обработайте ситуацию, когда пользователь будет вводить несуществующий документ.\n",
    "- l – list – команда, которая выведет список всех документов в формате   \n",
    "**passport \"2207 876234\" \"Василий Гупкин\"**  \n",
    "- as – add shelf – команда, которая спросит номер новой полки и добавит ее в перечень\n",
    "- d – delete – команда, которая спросит номер документа и удалит его из каталога и из перечня полок. Предусмотрите сценарий, когда пользователь вводит несуществующий документ;  \n",
    "- m – move – команда, которая спросит номер документа и целевую полку и переместит его с текущей полки на целевую. Корректно обработайте кейсы, когда пользователь пытается переместить несуществующий документ или переместить документ на несуществующую полку;  \n",
    "- a – add – команда, которая добавит новый документ в каталог и в перечень полок, спросив его номер, тип, имя владельца и номер полки, на котором он будет храниться."
   ]
  },
  {
   "cell_type": "code",
   "execution_count": 51,
   "metadata": {},
   "outputs": [
    {
     "name": "stdout",
     "output_type": "stream",
     "text": [
      "{'1': ['2207 876234'], '2': [], '3': ['15648'], '5': ['11-2']}\n"
     ]
    }
   ],
   "source": [
    "print(directories)"
   ]
  },
  {
   "cell_type": "code",
   "execution_count": null,
   "metadata": {},
   "outputs": [],
   "source": []
  }
 ],
 "metadata": {
  "kernelspec": {
   "display_name": "Python 3",
   "language": "python",
   "name": "python3"
  },
  "language_info": {
   "codemirror_mode": {
    "name": "ipython",
    "version": 3
   },
   "file_extension": ".py",
   "mimetype": "text/x-python",
   "name": "python",
   "nbconvert_exporter": "python",
   "pygments_lexer": "ipython3",
   "version": "3.7.4"
  }
 },
 "nbformat": 4,
 "nbformat_minor": 2
}
